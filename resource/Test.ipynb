{
 cells: [
  {
   cell_type: code,
   execution_count: 1,
   metadata: {},
   outputs: [],
   source: [
    S = \4 5 6 - 7 +\ # 8\n,
    # S = \13 DUP 4 POP 5 DUP +  -\ # 7\n,
    # 5 6 + - # -1\n,
    # 3 DUP 5 - - # -1\n,
    # 3 DUP 5 - - # -1
   ]
  },
  {
   cell_type: code,
   execution_count: 3,
   metadata: {},
   outputs: [
    {
     ename: ValueError,
     evalue: invalid literal for int() with base 10: 'DUP',
     output_type: error,
     traceback: [
      \u001b[0;31m---------------------------------------------------------------------------\u001b[0m,
      \u001b[0;31mValueError\u001b[0m                                Traceback (most recent call last),
      \u001b[1;32m/home/ajunior/Projects/machine_word/quintoAndarTest.ipynb Cell 2\u001b[0m in \u001b[0;36m<cell line: 4>\u001b[0;34m()\u001b[0m\n\u001b[1;32m     <a href='vscode-notebook-cell://wsl%2Bubuntu-22.04/home/ajunior/Projects/machine_word/quintoAndarTest.ipynb#W1sdnNjb2RlLXJlbW90ZQ%3D%3D?line=18'>19</a>\u001b[0m         n \u001b[39m=\u001b[39m (l[\u001b[39mlen\u001b[39m(l)\u001b[39m-\u001b[39m\u001b[39m2\u001b[39m])\n\u001b[1;32m     <a href='vscode-notebook-cell://wsl%2Bubuntu-22.04/home/ajunior/Projects/machine_word/quintoAndarTest.ipynb#W1sdnNjb2RlLXJlbW90ZQ%3D%3D?line=19'>20</a>\u001b[0m         lst \u001b[39m=\u001b[39m (l[\u001b[39mlen\u001b[39m(l)\u001b[39m-\u001b[39m\u001b[39m3\u001b[39m])\n\u001b[0;32m---> <a href='vscode-notebook-cell://wsl%2Bubuntu-22.04/home/ajunior/Projects/machine_word/quintoAndarTest.ipynb#W1sdnNjb2RlLXJlbW90ZQ%3D%3D?line=20'>21</a>\u001b[0m         x \u001b[39m=\u001b[39m (\u001b[39mint\u001b[39m(n) \u001b[39m+\u001b[39m \u001b[39mint\u001b[39;49m(lst))\n\u001b[1;32m     <a href='vscode-notebook-cell://wsl%2Bubuntu-22.04/home/ajunior/Projects/machine_word/quintoAndarTest.ipynb#W1sdnNjb2RlLXJlbW90ZQ%3D%3D?line=21'>22</a>\u001b[0m         l\u001b[39m.\u001b[39mappend(x)\n\u001b[1;32m     <a href='vscode-notebook-cell://wsl%2Bubuntu-22.04/home/ajunior/Projects/machine_word/quintoAndarTest.ipynb#W1sdnNjb2RlLXJlbW90ZQ%3D%3D?line=23'>24</a>\u001b[0m \u001b[39mprint\u001b[39m(l[\u001b[39mlen\u001b[39m(l)\u001b[39m-\u001b[39m\u001b[39m1\u001b[39m])\n,
      \u001b[0;31mValueError\u001b[0m: invalid literal for int() with base 10: 'DUP'
     ]
    }
   ],
   source: [
    l = []\n,
    a = S.split()\n,
    \n,
    for i in a:\n,
        l.append(i)    \n,
        if i == 'DUP':\n,
            x = l[len(l)-2]\n,
            l.append(x)\n,
            \n,
        elif i == '-':\n,
            n = (l[len(l)-2])\n,
            lst = (l[len(l)-3])\n,
            x = (int(n) - int(lst))\n,
            l.append(x)\n,
            del[l[len(l)-2]]\n,
            del[l[len(l)-3]]\n,
            \n,
        elif i == '+':\n,
            n = (l[len(l)-2])\n,
            lst = (l[len(l)-3])\n,
            x = (int(n) + int(lst))\n,
            l.append(x)\n,
    \n,
    print(l[len(l)-1])
   ]
  },
  {
   cell_type: code,
   execution_count: 22,
   metadata: {},
   outputs: [
    {
     name: stdout,
     output_type: stream,
     text: [
      ['4']\n,
      ['4', '5']\n,
      ['4', '5', '6']\n,
      ['4', '5', '6', '-']\n,
      ['4', '5', '6', '-', '7']\n,
      ['4', '5', '6', '-', '7', '+']\n
     ]
    }
   ],
   source: [
    for i in a:\n,
        l.append(i)\n,
        print(l)
   ]
  },
  {
   cell_type: code,
   execution_count: null,
   metadata: {},
   outputs: [],
   source: []
  }
 ],
 metadata: {
  kernelspec: {
   display_name: Python 3.10.4 64-bit,
   language: python,
   name: python3
  },
  language_info: {
   codemirror_mode: {
    name: ipython,
    version: 3
   },
   file_extension: .py,
   mimetype: text/x-python,
   name: python,
   nbconvert_exporter: python,
   pygments_lexer: ipython3,
   version: 3.10.4
  },
  vscode: {
   interpreter: {
    hash: 916dbcbb3f70747c44a77c7bcd40155683ae19c65e1c03b4aa3499c5328201f1
   }
  }
 },
 nbformat: 4,
 nbformat_minor: 4
}
